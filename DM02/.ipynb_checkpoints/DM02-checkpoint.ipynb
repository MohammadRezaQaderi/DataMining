{
 "cells": [
  {
   "cell_type": "code",
   "execution_count": 3,
   "id": "938d6a87",
   "metadata": {},
   "outputs": [],
   "source": [
    "import pandas as pd"
   ]
  },
  {
   "cell_type": "code",
   "execution_count": 26,
   "id": "3326dd17",
   "metadata": {},
   "outputs": [],
   "source": [
    "df = pd.read_csv(\"./Dataset/Dataset1.csv\")"
   ]
  },
  {
   "cell_type": "markdown",
   "id": "4ccc3b2a",
   "metadata": {},
   "source": [
    "در ابتدا بایستی بیاییم و مقادیر عددی که در داده ها موجود هست رو به صورت عددی درآوریم."
   ]
  },
  {
   "cell_type": "code",
   "execution_count": 28,
   "id": "ed08e7d8",
   "metadata": {
    "scrolled": true
   },
   "outputs": [
    {
     "name": "stdout",
     "output_type": "stream",
     "text": [
      "0    39\n",
      "1    50\n",
      "2    53\n",
      "3    28\n",
      "4    37\n",
      "Name: age, dtype: int64\n"
     ]
    }
   ],
   "source": [
    "df[\"age\"] = pd.to_numeric(df['age'])"
   ]
  },
  {
   "cell_type": "markdown",
   "id": "b43a6a0e",
   "metadata": {},
   "source": [
    "در اینجا برای سن میاییم و تقسیم بندی انجام میدهیم"
   ]
  },
  {
   "cell_type": "code",
   "execution_count": 29,
   "id": "ba90388d",
   "metadata": {},
   "outputs": [
    {
     "name": "stdout",
     "output_type": "stream",
     "text": [
      "0    adult\n",
      "1    adult\n",
      "2    adult\n",
      "3    adult\n",
      "4    adult\n",
      "Name: age, dtype: object\n"
     ]
    }
   ],
   "source": [
    "df.loc[df[\"age\"] < 11 ] = \"teenager\"\n",
    "df.loc[df[\"age\"] >= 11 ] = \"adult\""
   ]
  },
  {
   "cell_type": "markdown",
   "id": "3a997a86",
   "metadata": {},
   "source": []
  }
 ],
 "metadata": {
  "kernelspec": {
   "display_name": "Python 3 (ipykernel)",
   "language": "python",
   "name": "python3"
  },
  "language_info": {
   "codemirror_mode": {
    "name": "ipython",
    "version": 3
   },
   "file_extension": ".py",
   "mimetype": "text/x-python",
   "name": "python",
   "nbconvert_exporter": "python",
   "pygments_lexer": "ipython3",
   "version": "3.9.6"
  }
 },
 "nbformat": 4,
 "nbformat_minor": 5
}
